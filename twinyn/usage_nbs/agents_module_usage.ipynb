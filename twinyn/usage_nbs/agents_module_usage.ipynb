{
 "cells": [
  {
   "cell_type": "code",
   "id": "initial_id",
   "metadata": {
    "collapsed": true,
    "ExecuteTime": {
     "end_time": "2024-08-31T08:13:50.963096Z",
     "start_time": "2024-08-31T08:13:50.033962Z"
    }
   },
   "source": [
    "from twinyn.agents.seed_agent import *\n",
    "import twinyn.agents.agent_functions\n",
    "from twinyn.agents.prompts import *"
   ],
   "outputs": [],
   "execution_count": 1
  },
  {
   "metadata": {
    "ExecuteTime": {
     "end_time": "2024-08-31T08:13:50.973486Z",
     "start_time": "2024-08-31T08:13:50.969906Z"
    }
   },
   "cell_type": "code",
   "source": [
    "from pathlib import Path\n",
    "\n",
    "from autogen.coding import LocalCommandLineCodeExecutor\n",
    "\n",
    "import os\n",
    "from dotenv import load_dotenv\n",
    "load_dotenv()\n",
    "\n",
    "work_dir = Path(\"coding\")\n",
    "work_dir.mkdir(exist_ok=True)"
   ],
   "id": "b0f82689aa6cd1ab",
   "outputs": [],
   "execution_count": 2
  },
  {
   "metadata": {
    "ExecuteTime": {
     "end_time": "2024-08-31T08:13:51.106140Z",
     "start_time": "2024-08-31T08:13:51.103798Z"
    }
   },
   "cell_type": "code",
   "source": [
    "executor = LocalCommandLineCodeExecutor(work_dir=work_dir, functions=[agent_functions.execute_sql])\n",
    "seed_prompt = \"Peak traffic time in the past 5 hours bucketed in 30 minute intervals\""
   ],
   "id": "f8dc1ef7b9972afe",
   "outputs": [],
   "execution_count": 3
  },
  {
   "metadata": {
    "ExecuteTime": {
     "end_time": "2024-08-31T08:13:51.378605Z",
     "start_time": "2024-08-31T08:13:51.375556Z"
    }
   },
   "cell_type": "code",
   "source": [
    "llm_config_sql = {\"config_list\": [{\"model\": \"gpt-4o-2024-08-06\", \"api_key\": os.getenv(\"OPENAI_API_KEY\"), \"price\": [0.0025, 0.0100]}]}\n",
    "llm_config_analyst = {\"config_list\": [{\"model\": \"gpt-4o-mini\", \"api_key\": os.getenv(\"OPENAI_API_KEY\"), \"price\": [0.000150, 0.0006]}]}"
   ],
   "id": "bb5d7deaf682ab41",
   "outputs": [],
   "execution_count": 4
  },
  {
   "metadata": {
    "ExecuteTime": {
     "end_time": "2024-08-31T08:13:52.433955Z",
     "start_time": "2024-08-31T08:13:52.429545Z"
    }
   },
   "cell_type": "code",
   "source": [
    "def custom_message(sender: ConversableAgent, recipient: ConversableAgent, context: dict) -> str | dict:\n",
    "    carryover = context.get(\"carryover\", \"\")\n",
    "    if isinstance(carryover, list):\n",
    "        carryover = '\\n'.join(carryover[-3:])\n",
    "    final_msg = \"What do you think of the results? Do you find any peculiarity or anything that require further querying?\" + \"\\nContext: \\n\" + carryover\n",
    "    print(\"FINAL_MESSAGE: \", final_msg)\n",
    "    return final_msg\n"
   ],
   "id": "fbaaaaa6bc1707a0",
   "outputs": [],
   "execution_count": 5
  },
  {
   "metadata": {
    "ExecuteTime": {
     "end_time": "2024-08-31T08:13:52.990045Z",
     "start_time": "2024-08-31T08:13:52.970911Z"
    }
   },
   "cell_type": "code",
   "source": "seed = SeedTask(executor, llm_config_sql, llm_config_analyst, custom_message, seed_prompt, SQL_AGENT_SYSTEM_PROMPT, ANALYST_AGENT_SYSTEM_PROMPT)",
   "id": "d536f080e706e182",
   "outputs": [],
   "execution_count": 6
  },
  {
   "metadata": {
    "ExecuteTime": {
     "end_time": "2024-08-31T08:13:54.942934Z",
     "start_time": "2024-08-31T08:13:53.830173Z"
    }
   },
   "cell_type": "code",
   "source": "seed.kickoff()\n",
   "id": "617de55ad1367ac7",
   "outputs": [
    {
     "name": "stdout",
     "output_type": "stream",
     "text": [
      "\u001B[34m\n",
      "********************************************************************************\u001B[0m\n",
      "\u001B[34mStarting a new chat....\u001B[0m\n",
      "\u001B[34m\n",
      "********************************************************************************\u001B[0m\n",
      "\u001B[33mcode_executor_agent\u001B[0m (to sql_agent):\n",
      "\n",
      "Peak traffic time in the past 5 hours bucketed in 30 minute intervals\n",
      "\n",
      "--------------------------------------------------------------------------------\n",
      "\u001B[33msql_agent\u001B[0m (to code_executor_agent):\n",
      "\n",
      "To determine the peak traffic time in the past 5 hours, we can follow these steps:\n",
      "\n",
      "1. **Identify the Latest Log Entry**: We need to find the most recent log entry to ensure we're working with the correct timeframe, using a Common Table Expression (CTE).\n",
      "\n",
      "2. **Compute the Time Range**: Subtract 5 hours from the latest log entry to determine the start of our time range.\n",
      "\n",
      "3. **Bucket the Logs**: Group the logs into 30-minute intervals for the past 5 hours.\n",
      "\n",
      "4. **Count Accesses in Each Interval**: For each 30-minute interval, count the number of entries, which gives us the traffic volume.\n",
      "\n",
      "5. **Identify Peak Traffic**: Find the interval with the highest traffic volume.\n",
      "\n",
      "Here's the SQL query that performs these steps:\n",
      "\n",
      "```python\n",
      "from functions import execute_sql\n",
      "\n",
      "def get_peak_traffic():\n",
      "    query = \"\"\"\n",
      "    WITH last_request AS (\n",
      "        SELECT MAX(datetime) AS last_time\n",
      "        FROM server_log\n",
      "    ), traffic_intervals AS (\n",
      "        SELECT\n",
      "            date_trunc('30 minutes', datetime) AS interval_start,\n",
      "            COUNT(*) AS access_count\n",
      "        FROM server_log, last_request\n",
      "        WHERE datetime >= (last_time - interval '5 hours')\n",
      "        GROUP BY interval_start\n",
      "    )\n",
      "    SELECT interval_start, access_count\n",
      "    FROM traffic_intervals\n",
      "    ORDER BY access_count DESC, interval_start\n",
      "    LIMIT 1;\n",
      "    \"\"\"\n",
      "    results = execute_sql(query)\n",
      "    print(results)\n",
      "\n",
      "get_peak_traffic()\n",
      "```\n",
      "\n",
      "This code will print the interval with the highest traffic (peak traffic) within the past 5 hours, divided into 30-minute buckets. The `LIMIT 1` ensures we get only the peak traffic information.\n",
      "\n",
      "--------------------------------------------------------------------------------\n",
      "\u001B[31m\n",
      ">>>>>>>> EXECUTING CODE BLOCK (inferred language is python)...\u001B[0m\n",
      "\u001B[33mcode_executor_agent\u001B[0m (to sql_agent):\n",
      "\n",
      "exitcode: 1 (execution failed)\n",
      "Code output: Traceback (most recent call last):\n",
      "  File \"/home/suchitg/hwinyn/src/agents/coding/tmp_code_47823b251b2a7a617f378371cfb01987.py\", line 24, in <module>\n",
      "    get_peak_traffic()\n",
      "  File \"/home/suchitg/hwinyn/src/agents/coding/tmp_code_47823b251b2a7a617f378371cfb01987.py\", line 21, in get_peak_traffic\n",
      "    results = execute_sql(query)\n",
      "              ^^^^^^^^^^^^^^^^^^\n",
      "  File \"/home/suchitg/hwinyn/src/agents/coding/functions.py\", line 8, in execute_sql\n",
      "    cursor.execute(\n",
      "psycopg2.errors.InvalidParameterValue: unit \"30 minutes\" not recognized for type timestamp with time zone\n",
      "\n",
      "\n",
      "\n",
      "--------------------------------------------------------------------------------\n",
      "\u001B[33msql_agent\u001B[0m (to code_executor_agent):\n",
      "\n",
      "It seems there is an issue with how the `date_trunc` function is being used in the SQL query. The `date_trunc` function does not directly support '30 minutes' as a truncation scope. Instead, we can achieve the same effect by truncating to the hour and then adjusting for the 30-minute intervals using arithmetic operations.\n",
      "\n",
      "Here is the corrected SQL query:\n",
      "\n",
      "```python\n",
      "from functions import execute_sql\n",
      "\n",
      "def get_peak_traffic():\n",
      "    query = \"\"\"\n",
      "    WITH last_request AS (\n",
      "        SELECT MAX(datetime) AS last_time\n",
      "        FROM server_log\n",
      "    ), traffic_intervals AS (\n",
      "        SELECT\n",
      "            date_trunc('hour', datetime) + INTERVAL '30 minutes' * (EXTRACT(MINUTE FROM datetime)::int / 30) AS interval_start,\n",
      "            COUNT(*) AS access_count\n",
      "        FROM server_log, last_request\n",
      "        WHERE datetime >= (last_time - interval '5 hours')\n",
      "        GROUP BY interval_start\n",
      "    )\n",
      "    SELECT interval_start, access_count\n",
      "    FROM traffic_intervals\n",
      "    ORDER BY access_count DESC, interval_start\n",
      "    LIMIT 1;\n",
      "    \"\"\"\n",
      "    results = execute_sql(query)\n",
      "    print(results)\n",
      "\n",
      "get_peak_traffic()\n",
      "```\n",
      "\n",
      "This approach will correctly bucket the datetime entries into 30-minute intervals within the past 5 hours and determine the peak traffic time. The `EXTRACT(MINUTE FROM datetime)::int / 30` expression divides the current minute by 30 to determine if the interval is the first or second 30-minute block in the hour.\n",
      "\n",
      "--------------------------------------------------------------------------------\n",
      "\u001B[31m\n",
      ">>>>>>>> EXECUTING CODE BLOCK (inferred language is python)...\u001B[0m\n",
      "\u001B[33mcode_executor_agent\u001B[0m (to sql_agent):\n",
      "\n",
      "exitcode: 0 (execution succeeded)\n",
      "Code output: [(datetime.datetime(2019, 1, 22, 10, 30, tzinfo=datetime.timezone(datetime.timedelta(seconds=19800))), 53401)]\n",
      "\n",
      "\n",
      "--------------------------------------------------------------------------------\n",
      "\u001B[33msql_agent\u001B[0m (to code_executor_agent):\n",
      "\n",
      "The query executed successfully. The peak traffic time within the past 5 hours was during the interval starting at \"2019-01-22 10:30:00\" (local timezone) with 53,401 accesses recorded. \n",
      "\n",
      "TERMINATE\n",
      "\n",
      "--------------------------------------------------------------------------------\n",
      "\u001B[34m\n",
      "********************************************************************************\u001B[0m\n",
      "\u001B[34mStarting a new chat....\u001B[0m\n",
      "\u001B[34m\n",
      "********************************************************************************\u001B[0m\n",
      "FINAL_MESSAGE:  What do you think of the results? Do you find any peculiarity or anything that require further querying?\n",
      "Context: \n",
      "The query executed successfully. The peak traffic time within the past 5 hours was during the interval starting at \"2019-01-22 10:30:00\" (local timezone) with 53,401 accesses recorded. \n",
      "\n",
      "\n",
      "\u001B[33mcode_executor_agent\u001B[0m (to analyst_agent):\n",
      "\n",
      "What do you think of the results? Do you find any peculiarity or anything that require further querying?\n",
      "Context: \n",
      "The query executed successfully. The peak traffic time within the past 5 hours was during the interval starting at \"2019-01-22 10:30:00\" (local timezone) with 53,401 accesses recorded. \n",
      "\n",
      "\n",
      "\n",
      "--------------------------------------------------------------------------------\n",
      "\u001B[33manalyst_agent\u001B[0m (to code_executor_agent):\n",
      "\n",
      "Analysis:\n",
      "The peak traffic time indicates a significant influx of user activity, suggesting high interest or demand for content or services at that specific time. The unusually high access count of 53,401 in a short time frame could hint at various phenomena such as a marketing campaign, sudden news event, or technical issues (like a recursive request loop). This event warrants further exploration to identify potential causes or effects, like the types of requests made, the geographical distribution of users accessing the server during that time, or if it correlates with any campaigns or outages.\n",
      "\n",
      "Further Instructions:\n",
      "1. Retrieve the details of the server log entries recorded in the interval starting at \"2019-01-22 10:30:00\" and covering one hour after that time to analyze the requests made during the peak traffic.\n",
      "2. Analyze the geographical distribution of the users by correlating the client IP addresses in the server log with the geoip2_network and geoip2_location tables for that peak period.\n",
      "3. Investigate the status codes reported during the peak traffic to assess whether there were any errors (e.g., status codes 4xx or 5xx) that could indicate issues affecting user experience.\n",
      "\n",
      "TERMINATE\n",
      "\n",
      "--------------------------------------------------------------------------------\n"
     ]
    }
   ],
   "execution_count": 7
  },
  {
   "metadata": {
    "ExecuteTime": {
     "end_time": "2024-08-31T08:13:54.990008Z",
     "start_time": "2024-08-31T08:13:54.984481Z"
    }
   },
   "cell_type": "code",
   "source": "seed.chat_result[0].chat_history[0]['content']",
   "id": "d8d2d7c47f990f6b",
   "outputs": [
    {
     "data": {
      "text/plain": [
       "'Peak traffic time in the past 5 hours bucketed in 30 minute intervals'"
      ]
     },
     "execution_count": 8,
     "metadata": {},
     "output_type": "execute_result"
    }
   ],
   "execution_count": 8
  },
  {
   "metadata": {
    "ExecuteTime": {
     "end_time": "2024-08-31T08:14:00.644387Z",
     "start_time": "2024-08-31T08:14:00.641711Z"
    }
   },
   "cell_type": "code",
   "source": "out = SeedOutput(seed.chat_result)",
   "id": "20887c89c0cf9cd3",
   "outputs": [],
   "execution_count": 11
  },
  {
   "metadata": {
    "ExecuteTime": {
     "end_time": "2024-08-31T08:14:02.154800Z",
     "start_time": "2024-08-31T08:14:02.152153Z"
    }
   },
   "cell_type": "code",
   "source": "out.collect()",
   "id": "6b9d3fa6a1b7670b",
   "outputs": [],
   "execution_count": 12
  },
  {
   "metadata": {
    "ExecuteTime": {
     "end_time": "2024-08-31T08:14:03.593227Z",
     "start_time": "2024-08-31T08:14:03.589292Z"
    }
   },
   "cell_type": "code",
   "source": "print(out.code_res_msg)",
   "id": "cbab1e291c124e8f",
   "outputs": [
    {
     "name": "stdout",
     "output_type": "stream",
     "text": [
      "exitcode: 0 (execution succeeded)\n",
      "Code output: [(datetime.datetime(2019, 1, 22, 10, 30, tzinfo=datetime.timezone(datetime.timedelta(seconds=19800))), 53401)]\n",
      "\n",
      "The query executed successfully. The peak traffic time within the past 5 hours was during the interval starting at \"2019-01-22 10:30:00\" (local timezone) with 53,401 accesses recorded. \n",
      "\n"
     ]
    }
   ],
   "execution_count": 13
  },
  {
   "metadata": {
    "ExecuteTime": {
     "end_time": "2024-08-31T08:14:04.442839Z",
     "start_time": "2024-08-31T08:14:04.439466Z"
    }
   },
   "cell_type": "code",
   "source": "print(out.analysis_msg)",
   "id": "449c2c71cf9c2801",
   "outputs": [
    {
     "name": "stdout",
     "output_type": "stream",
     "text": [
      "Analysis:\n",
      "The peak traffic time indicates a significant influx of user activity, suggesting high interest or demand for content or services at that specific time. The unusually high access count of 53,401 in a short time frame could hint at various phenomena such as a marketing campaign, sudden news event, or technical issues (like a recursive request loop). This event warrants further exploration to identify potential causes or effects, like the types of requests made, the geographical distribution of users accessing the server during that time, or if it correlates with any campaigns or outages.\n",
      "\n",
      "Further Instructions:\n",
      "1. Retrieve the details of the server log entries recorded in the interval starting at \"2019-01-22 10:30:00\" and covering one hour after that time to analyze the requests made during the peak traffic.\n",
      "2. Analyze the geographical distribution of the users by correlating the client IP addresses in the server log with the geoip2_network and geoip2_location tables for that peak period.\n",
      "3. Investigate the status codes reported during the peak traffic to assess whether there were any errors (e.g., status codes 4xx or 5xx) that could indicate issues affecting user experience.\n",
      "\n"
     ]
    }
   ],
   "execution_count": 14
  },
  {
   "metadata": {
    "ExecuteTime": {
     "end_time": "2024-08-31T07:44:44.808652Z",
     "start_time": "2024-08-31T07:44:44.805061Z"
    }
   },
   "cell_type": "code",
   "source": "print(out.parsed_instructions)",
   "id": "c18887be86accf4",
   "outputs": [
    {
     "name": "stdout",
     "output_type": "stream",
     "text": [
      "['Retrieve the details of the server log entries recorded in the interval starting at \"2019-01-22 10:30:00\" and covering one hour after that time to analyze the requests made during the peak traffic.', 'Analyze the geographical distribution of the users by correlating the client IP addresses in the server log with the geoip2_network and geoip2_location tables for that peak period.', 'Investigate the status codes reported during the peak traffic to assess whether there were any errors (e.g., status codes 4xx or 5xx) that could indicate issues affecting user experience.']\n"
     ]
    }
   ],
   "execution_count": 17
  },
  {
   "metadata": {
    "ExecuteTime": {
     "end_time": "2024-08-31T07:44:44.859956Z",
     "start_time": "2024-08-31T07:44:44.857381Z"
    }
   },
   "cell_type": "code",
   "source": "",
   "id": "ee74272e063e5750",
   "outputs": [],
   "execution_count": null
  },
  {
   "metadata": {},
   "cell_type": "code",
   "outputs": [],
   "execution_count": null,
   "source": "",
   "id": "693330a0fdc15a9"
  }
 ],
 "metadata": {
  "kernelspec": {
   "display_name": "Python 3",
   "language": "python",
   "name": "python3"
  },
  "language_info": {
   "codemirror_mode": {
    "name": "ipython",
    "version": 2
   },
   "file_extension": ".py",
   "mimetype": "text/x-python",
   "name": "python",
   "nbconvert_exporter": "python",
   "pygments_lexer": "ipython2",
   "version": "2.7.6"
  }
 },
 "nbformat": 4,
 "nbformat_minor": 5
}
