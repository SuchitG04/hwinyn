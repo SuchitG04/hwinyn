{
 "cells": [
  {
   "metadata": {
    "ExecuteTime": {
     "end_time": "2024-09-02T14:45:15.573902Z",
     "start_time": "2024-09-02T14:45:13.636610Z"
    }
   },
   "cell_type": "code",
   "source": [
    "from twinyn.agents.seed_agent import *\n",
    "from twinyn.agents.agent_functions import execute_sql\n",
    "from twinyn.agents.prompts import *"
   ],
   "id": "ad3daa785c2d64f6",
   "outputs": [],
   "execution_count": 1
  },
  {
   "metadata": {
    "ExecuteTime": {
     "end_time": "2024-09-02T14:45:15.608127Z",
     "start_time": "2024-09-02T14:45:15.600411Z"
    }
   },
   "cell_type": "code",
   "source": [
    "from pathlib import Path\n",
    "\n",
    "from autogen import ChatResult\n",
    "from autogen.coding import LocalCommandLineCodeExecutor\n",
    "\n",
    "import os\n",
    "from dotenv import load_dotenv\n",
    "load_dotenv()\n",
    "\n",
    "work_dir = Path(\"coding\")\n",
    "work_dir.mkdir(exist_ok=True)"
   ],
   "id": "d8ed80304f6ac358",
   "outputs": [],
   "execution_count": 2
  },
  {
   "metadata": {
    "ExecuteTime": {
     "end_time": "2024-09-02T14:45:15.867017Z",
     "start_time": "2024-09-02T14:45:15.863160Z"
    }
   },
   "cell_type": "code",
   "source": [
    "executor = LocalCommandLineCodeExecutor(work_dir=work_dir, functions=[execute_sql])\n",
    "seed_prompt = \"Peak traffic time in the past 5 hours bucketed in 30 minute intervals\""
   ],
   "id": "5933c235cefdb686",
   "outputs": [],
   "execution_count": 3
  },
  {
   "metadata": {
    "ExecuteTime": {
     "end_time": "2024-09-02T14:45:15.914814Z",
     "start_time": "2024-09-02T14:45:15.910090Z"
    }
   },
   "cell_type": "code",
   "source": [
    "llm_config_sql = {\"config_list\": [{\"model\": \"gpt-4o-2024-08-06\", \"api_key\": os.getenv(\"OPENAI_API_KEY\"), \"price\": [0.0025, 0.0100]}]}\n",
    "llm_config_analyst = {\"config_list\": [{\"model\": \"gpt-4o-mini\", \"api_key\": os.getenv(\"OPENAI_API_KEY\"), \"price\": [0.000150, 0.0006]}]}"
   ],
   "id": "f24cb4222aadcb40",
   "outputs": [],
   "execution_count": 4
  },
  {
   "metadata": {
    "ExecuteTime": {
     "end_time": "2024-09-02T14:45:15.965883Z",
     "start_time": "2024-09-02T14:45:15.961529Z"
    }
   },
   "cell_type": "code",
   "source": [
    "seed_prompts = [\n",
    "    \"Peak traffic time in the past 5 hours bucketed in 30 minute intervals\",\n",
    "    \"Request distribution by country in the past 5 hours\"\n",
    "]"
   ],
   "id": "da748c8cca9df408",
   "outputs": [],
   "execution_count": 5
  },
  {
   "metadata": {
    "ExecuteTime": {
     "end_time": "2024-09-02T14:45:16.019765Z",
     "start_time": "2024-09-02T14:45:16.015299Z"
    }
   },
   "cell_type": "code",
   "source": [
    "conversations: list[ChatResult] = []\n",
    "outputs: list[SeedOutput] = []"
   ],
   "id": "a5e55a571586aad4",
   "outputs": [],
   "execution_count": 6
  },
  {
   "metadata": {
    "ExecuteTime": {
     "end_time": "2024-09-02T14:46:11.062921Z",
     "start_time": "2024-09-02T14:45:16.073330Z"
    }
   },
   "cell_type": "code",
   "source": [
    "for s in seed_prompts:\n",
    "    conversations.append(\n",
    "        SeedTask(executor, llm_config_sql, llm_config_analyst, s, SQL_AGENT_SYSTEM_PROMPT, ANALYST_AGENT_SYSTEM_PROMPT)\n",
    "    )\n",
    "    conversations[-1].kickoff()\n",
    "    \n",
    "    outputs.append(\n",
    "        SeedOutput(conversations[-1].chat_result)\n",
    "    )\n",
    "    outputs[-1].collect()"
   ],
   "id": "612f1ec676e11e88",
   "outputs": [
    {
     "name": "stdout",
     "output_type": "stream",
     "text": [
      "\u001B[34m\n",
      "********************************************************************************\u001B[0m\n",
      "\u001B[34mStarting a new chat....\u001B[0m\n",
      "\u001B[34m\n",
      "********************************************************************************\u001B[0m\n",
      "\u001B[33mcode_executor_agent\u001B[0m (to sql_agent):\n",
      "\n",
      "Peak traffic time in the past 5 hours bucketed in 30 minute intervals\n",
      "\n",
      "--------------------------------------------------------------------------------\n",
      "\u001B[33msql_agent\u001B[0m (to code_executor_agent):\n",
      "\n",
      "To determine the peak traffic time in the past 5 hours, bucketed in 30-minute intervals, we need to follow these steps:\n",
      "\n",
      "1. Calculate the last request time from the `server_log` table.\n",
      "2. Define a time window of the last 5 hours based on this last request time.\n",
      "3. Group the requests within this period into 30-minute intervals.\n",
      "4. Count the number of requests in each 30-minute interval.\n",
      "5. Identify the interval with the maximum number of requests.\n",
      "\n",
      "Let's write the SQL query to achieve this and use the function `execute_sql` to execute the query and print the results. \n",
      "\n",
      "```python\n",
      "from functions import execute_sql\n",
      "\n",
      "query = \"\"\"\n",
      "WITH last_request AS (\n",
      "    SELECT MAX(datetime) AS last_time\n",
      "    FROM server_log\n",
      "),\n",
      "times AS (\n",
      "    SELECT generate_series(\n",
      "        (SELECT last_time - interval '5 hours' FROM last_request),\n",
      "        (SELECT last_time FROM last_request),\n",
      "        interval '30 minutes') AS time_bucket_start\n",
      "),\n",
      "traffic_intervals AS (\n",
      "    SELECT\n",
      "        t.time_bucket_start,\n",
      "        COUNT(sl.client) AS request_count\n",
      "    FROM \n",
      "        times t\n",
      "    LEFT JOIN \n",
      "        server_log sl ON sl.datetime >= t.time_bucket_start\n",
      "        AND sl.datetime < t.time_bucket_start + interval '30 minutes'\n",
      "    GROUP BY \n",
      "        t.time_bucket_start\n",
      ")\n",
      "SELECT time_bucket_start, request_count\n",
      "FROM traffic_intervals\n",
      "ORDER BY request_count DESC\n",
      "LIMIT 1;\n",
      "\"\"\"\n",
      "\n",
      "results = execute_sql(query)\n",
      "print(results)\n",
      "```\n",
      "\n",
      "--------------------------------------------------------------------------------\n",
      "\u001B[31m\n",
      ">>>>>>>> EXECUTING CODE BLOCK (inferred language is python)...\u001B[0m\n",
      "\u001B[33mcode_executor_agent\u001B[0m (to sql_agent):\n",
      "\n",
      "exitcode: 0 (execution succeeded)\n",
      "Code output: [(datetime.datetime(2019, 1, 22, 10, 33, 17, tzinfo=datetime.timezone(datetime.timedelta(seconds=19800))), 54811)]\n",
      "\n",
      "\n",
      "--------------------------------------------------------------------------------\n",
      "\u001B[33msql_agent\u001B[0m (to code_executor_agent):\n",
      "\n",
      "(datetime.datetime(2019, 1, 22, 10, 33, 17, tzinfo=datetime.timezone(datetime.timedelta(seconds=19800))), 54811)\n",
      "TERMINATE\n",
      "\n",
      "--------------------------------------------------------------------------------\n",
      "\u001B[34m\n",
      "********************************************************************************\u001B[0m\n",
      "\u001B[34mStarting a new chat....\u001B[0m\n",
      "\u001B[34m\n",
      "********************************************************************************\u001B[0m\n",
      "\u001B[33mcode_executor_agent\u001B[0m (to analyst_agent):\n",
      "\n",
      "Query:\n",
      "Peak traffic time in the past 5 hours bucketed in 30 minute intervals\n",
      "\n",
      "Result:\n",
      "['(datetime.datetime(2019, 1, 22, 10, 33, 17, tzinfo=datetime.timezone(datetime.timedelta(seconds=19800))), 54811)\\n']\n",
      "\n",
      "\n",
      "--------------------------------------------------------------------------------\n",
      "\u001B[33manalyst_agent\u001B[0m (to code_executor_agent):\n",
      "\n",
      "Analysis:\n",
      "The result indicates that the peak traffic time in the past 5 hours was identified as occurring at 10:33:17 AM on January 22, 2019, with 54,811 requests made during that half-hour interval. This suggests high user engagement or activity at that particular time frame, warranting further investigation into factors that may have contributed to this spike, such as marketing campaigns or special events.\n",
      "\n",
      "Further Instructions:\n",
      "1. Retrieve the full list of traffic counts in 30-minute intervals for the entire 5-hour period leading up to 10:33 AM on January 22, 2019, to analyze trends leading up to the peak time.\n",
      "2. Identify the user agents associated with the requests made during the peak time interval to understand user demographics and preferences better.\n",
      "3. Cross-reference the peak time with the server log's status codes to determine if the peak was related to successful, redirected, or errored requests for further insights into traffic quality.\n",
      "\n",
      "TERMINATE\n",
      "\n",
      "--------------------------------------------------------------------------------\n",
      "\u001B[34m\n",
      "********************************************************************************\u001B[0m\n",
      "\u001B[34mStarting a new chat....\u001B[0m\n",
      "\u001B[34m\n",
      "********************************************************************************\u001B[0m\n",
      "\u001B[33mcode_executor_agent\u001B[0m (to sql_agent):\n",
      "\n",
      "Request distribution by country in the past 5 hours\n",
      "\n",
      "--------------------------------------------------------------------------------\n",
      "\u001B[33msql_agent\u001B[0m (to code_executor_agent):\n",
      "\n",
      "To solve this task, we need to follow these steps:\n",
      "\n",
      "1. Identify the maximum datetime from the `server_log` table to determine the current context (\"now\").\n",
      "2. Calculate the time 5 hours before this maximum datetime.\n",
      "3. Filter the `server_log` table to include only records with datetime within the last 5 hours.\n",
      "4. Join this filtered log data with the `geoip2_network` table using the client IP to match the network.\n",
      "5. Further join the resulting data with the `geoip2_location` table to get the country names using the `geoname_id`.\n",
      "6. Group the results by country name and count the number of requests per country.\n",
      "7. Execute the entire query and print the results.\n",
      "\n",
      "Let's implement this using the provided function `execute_sql`:\n",
      "\n",
      "```python\n",
      "from functions import execute_sql\n",
      "\n",
      "query = \"\"\"\n",
      "WITH last_request AS (\n",
      "    SELECT MAX(datetime) AS last_time\n",
      "    FROM server_log\n",
      "),\n",
      "recent_logs AS (\n",
      "    SELECT *\n",
      "    FROM server_log, last_request\n",
      "    WHERE datetime > last_time - INTERVAL '5 hours'\n",
      "),\n",
      "network_matched AS (\n",
      "    SELECT rl.*, gn.geoname_id\n",
      "    FROM recent_logs rl\n",
      "    JOIN geoip2_network gn\n",
      "    ON rl.client <<= gn.network\n",
      "),\n",
      "country_requests AS (\n",
      "    SELECT gl.country_name, COUNT(*) AS request_count\n",
      "    FROM network_matched nm\n",
      "    JOIN geoip2_location gl\n",
      "    ON nm.geoname_id = gl.geoname_id\n",
      "    WHERE gl.locale_code = 'en' -- Assuming 'en' locale for country names\n",
      "    GROUP BY gl.country_name\n",
      "    ORDER BY request_count DESC\n",
      ")\n",
      "SELECT * FROM country_requests;\n",
      "\"\"\"\n",
      "\n",
      "results = execute_sql(query)\n",
      "print(results)\n",
      "```\n",
      "\n",
      "--------------------------------------------------------------------------------\n",
      "\u001B[31m\n",
      ">>>>>>>> EXECUTING CODE BLOCK (inferred language is python)...\u001B[0m\n",
      "\u001B[33mcode_executor_agent\u001B[0m (to sql_agent):\n",
      "\n",
      "exitcode: 0 (execution succeeded)\n",
      "Code output: [('Iran', 123032), ('United States', 47333), ('Germany', 8544), ('United Arab Emirates', 5000), ('France', 4203), ('The Netherlands', 1934), ('Finland', 897), ('United Kingdom', 627), ('Syria', 546), ('Hong Kong', 528), ('Canada', 505), ('Iraq', 437), ('Bulgaria', 380), ('Australia', 369), ('Ireland', 309), (None, 302), ('Russia', 224), ('Japan', 172), ('Georgia', 136), ('Austria', 126), ('Türkiye', 123), ('Ukraine', 110), ('Denmark', 110), ('Sweden', 104), ('Afghanistan', 79), ('China', 65), ('Czechia', 54), ('South Africa', 54), ('Poland', 30), ('Slovenia', 24), ('Romania', 16), ('South Korea', 13), ('Israel', 12), ('Thailand', 12), ('Italy', 11), ('Morocco', 11), ('Uzbekistan', 10), ('Singapore', 7), ('Oman', 4), ('Spain', 4), ('Malaysia', 4), ('Indonesia', 3), ('India', 2), ('Brazil', 2), ('Argentina', 2), ('Hungary', 2), ('Colombia', 2), ('Luxembourg', 2), ('Taiwan', 1), ('Mexico', 1), ('Venezuela', 1), ('Pakistan', 1), ('Azerbaijan', 1), ('Vietnam', 1)]\n",
      "\n",
      "\n",
      "--------------------------------------------------------------------------------\n",
      "\u001B[33msql_agent\u001B[0m (to code_executor_agent):\n",
      "\n",
      "[('Iran', 123032), ('United States', 47333), ('Germany', 8544), ('United Arab Emirates', 5000), ('France', 4203), ('The Netherlands', 1934), ('Finland', 897), ('United Kingdom', 627), ('Syria', 546), ('Hong Kong', 528), ('Canada', 505), ('Iraq', 437), ('Bulgaria', 380), ('Australia', 369), ('Ireland', 309), (None, 302), ('Russia', 224), ('Japan', 172), ('Georgia', 136), ('Austria', 126), ('Türkiye', 123), ('Ukraine', 110), ('Denmark', 110), ('Sweden', 104), ('Afghanistan', 79), ('China', 65), ('Czechia', 54), ('South Africa', 54), ('Poland', 30), ('Slovenia', 24), ('Romania', 16), ('South Korea', 13), ('Israel', 12), ('Thailand', 12), ('Italy', 11), ('Morocco', 11), ('Uzbekistan', 10), ('Singapore', 7), ('Oman', 4), ('Spain', 4), ('Malaysia', 4), ('Indonesia', 3), ('India', 2), ('Brazil', 2), ('Argentina', 2), ('Hungary', 2), ('Colombia', 2), ('Luxembourg', 2), ('Taiwan', 1), ('Mexico', 1), ('Venezuela', 1), ('Pakistan', 1), ('Azerbaijan', 1), ('Vietnam', 1)]\n",
      "TERMINATE\n",
      "\n",
      "--------------------------------------------------------------------------------\n",
      "\u001B[34m\n",
      "********************************************************************************\u001B[0m\n",
      "\u001B[34mStarting a new chat....\u001B[0m\n",
      "\u001B[34m\n",
      "********************************************************************************\u001B[0m\n",
      "\u001B[33mcode_executor_agent\u001B[0m (to analyst_agent):\n",
      "\n",
      "Query:\n",
      "Request distribution by country in the past 5 hours\n",
      "\n",
      "Result:\n",
      "[\"[('Iran', 123032), ('United States', 47333), ('Germany', 8544), ('United Arab Emirates', 5000), ('France', 4203), ('The Netherlands', 1934), ('Finland', 897), ('United Kingdom', 627), ('Syria', 546), ('Hong Kong', 528), ('Canada', 505), ('Iraq', 437), ('Bulgaria', 380), ('Australia', 369), ('Ireland', 309), (None, 302), ('Russia', 224), ('Japan', 172), ('Georgia', 136), ('Austria', 126), ('Türkiye', 123), ('Ukraine', 110), ('Denmark', 110), ('Sweden', 104), ('Afghanistan', 79), ('China', 65), ('Czechia', 54), ('South Africa', 54), ('Poland', 30), ('Slovenia', 24), ('Romania', 16), ('South Korea', 13), ('Israel', 12), ('Thailand', 12), ('Italy', 11), ('Morocco', 11), ('Uzbekistan', 10), ('Singapore', 7), ('Oman', 4), ('Spain', 4), ('Malaysia', 4), ('Indonesia', 3), ('India', 2), ('Brazil', 2), ('Argentina', 2), ('Hungary', 2), ('Colombia', 2), ('Luxembourg', 2), ('Taiwan', 1), ('Mexico', 1), ('Venezuela', 1), ('Pakistan', 1), ('Azerbaijan', 1), ('Vietnam', 1)]\\n\"]\n",
      "\n",
      "\n",
      "--------------------------------------------------------------------------------\n",
      "\u001B[33manalyst_agent\u001B[0m (to code_executor_agent):\n",
      "\n",
      "Analysis:\n",
      "The data presents a distribution of requests over the past five hours, showing the number of requests made from various countries. Iran has the highest volume with 123,032 requests, followed by the United States with 47,333, and Germany with 8,544. This data indicates substantial Internet activity from Iran, which could suggest a specific event or activity driving traffic. Meanwhile, countries like Canada, Iraq, and Australia show significant but relatively lower request volumes, reflecting a broader global engagement. The presence of multiple countries in the distribution implies that the service has a diverse user base.\n",
      "\n",
      "Further Instructions:\n",
      "1. Retrieve detailed request data from the `server_log` table for the top three countries (Iran, United States, Germany) for further analysis.\n",
      "2. Analyze the request times from each country to identify peak traffic hours within the past five hours.\n",
      "3. Investigate the unique user agents from each of the top five countries to gain insights into the devices and browsers used for the requests.\n",
      "\n",
      "TERMINATE\n",
      "\n",
      "--------------------------------------------------------------------------------\n"
     ]
    }
   ],
   "execution_count": 7
  },
  {
   "metadata": {},
   "cell_type": "code",
   "outputs": [],
   "execution_count": null,
   "source": "",
   "id": "45815fe731b3ab48"
  },
  {
   "metadata": {},
   "cell_type": "code",
   "outputs": [],
   "execution_count": null,
   "source": "",
   "id": "399eb5015e652efa"
  },
  {
   "metadata": {},
   "cell_type": "code",
   "outputs": [],
   "execution_count": null,
   "source": "",
   "id": "ab7ab3ffc59a0f50"
  }
 ],
 "metadata": {
  "kernelspec": {
   "display_name": "Python 3",
   "language": "python",
   "name": "python3"
  },
  "language_info": {
   "codemirror_mode": {
    "name": "ipython",
    "version": 2
   },
   "file_extension": ".py",
   "mimetype": "text/x-python",
   "name": "python",
   "nbconvert_exporter": "python",
   "pygments_lexer": "ipython2",
   "version": "2.7.6"
  }
 },
 "nbformat": 4,
 "nbformat_minor": 5
}
