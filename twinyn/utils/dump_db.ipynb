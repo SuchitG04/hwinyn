{
 "cells": [
  {
   "metadata": {
    "ExecuteTime": {
     "end_time": "2024-08-08T16:16:02.060778Z",
     "start_time": "2024-08-08T16:16:02.055735Z"
    }
   },
   "cell_type": "code",
   "source": [
    "combined_regex = r'^(?P<client>\\S+) \\S+ (?P<userid>\\S+) \\[(?P<datetime>[^\\]]+)\\] \"(?P<method>[A-Z]+) (?P<path>[^ \"]+)? HTTP/[0-9.]+\" (?P<status>[0-9]{3}) (?P<size>[0-9]+|-) \"(?P<referrer>[^\"]*)\" \"(?P<useragent>[^\"]*)'\n",
    "columns = ['client', 'userid', 'datetime', 'method', 'path', 'status', 'size', 'referer', 'user_agent']"
   ],
   "id": "41c75012148138a2",
   "outputs": [],
   "execution_count": 6
  },
  {
   "metadata": {
    "ExecuteTime": {
     "end_time": "2024-08-08T16:16:02.392859Z",
     "start_time": "2024-08-08T16:16:02.380886Z"
    }
   },
   "cell_type": "code",
   "source": [
    "import psycopg2\n",
    "from dotenv import load_dotenv\n",
    "import os\n",
    "\n",
    "load_dotenv()\n",
    "conn = psycopg2.connect(os.getenv(\"CONNECTION_URL\"))"
   ],
   "id": "798a5cb1efd33773",
   "outputs": [],
   "execution_count": 7
  },
  {
   "metadata": {
    "ExecuteTime": {
     "end_time": "2024-08-08T16:16:03.408514Z",
     "start_time": "2024-08-08T16:16:03.400813Z"
    }
   },
   "cell_type": "code",
   "source": [
    "def logdb(log_args):\n",
    "    \"\"\"Logs request and response in the PostgreSQL database following the Common Log Format extended\n",
    "    extended with user-agent and referer.\"\"\"\n",
    "    with conn.cursor() as cursor:\n",
    "        try:\n",
    "            cursor.execute(\n",
    "                \"\"\"\n",
    "                INSERT INTO server_log\n",
    "                VALUES (%s, to_timestamp(%s, 'DD/Mon/YYYY:HH:MI:SS TZHTZM'), %s, %s, %s, %s, %s, %s)\n",
    "                \"\"\",\n",
    "                (\n",
    "                    log_args[0],\n",
    "                    log_args[2],\n",
    "                    log_args[3],\n",
    "                    log_args[4],\n",
    "                    log_args[5],\n",
    "                    log_args[6],\n",
    "                    log_args[7],\n",
    "                    log_args[8]\n",
    "                )\n",
    "            )\n",
    "        except Exception as e:\n",
    "            print(\"Exceptiion: \", e)\n",
    "            conn.rollback()\n",
    "        else:\n",
    "            conn.commit()\n"
   ],
   "id": "e6f1708a50ddd972",
   "outputs": [],
   "execution_count": 8
  },
  {
   "metadata": {
    "ExecuteTime": {
     "end_time": "2024-08-08T16:16:03.854445Z",
     "start_time": "2024-08-08T16:16:03.847557Z"
    }
   },
   "cell_type": "code",
   "source": [
    "import re\n",
    "from tqdm import tqdm\n",
    "\n",
    "\n",
    "def log(logfile, errors_file):\n",
    "    with open(logfile) as source_file:\n",
    "        linenumber = 1\n",
    "        for line in tqdm(source_file, total=200_000):\n",
    "            try:\n",
    "                log_line = re.findall(combined_regex, line)[0]\n",
    "                logdb(log_line)\n",
    "                \n",
    "            except Exception as e:\n",
    "                print(f\"Exception: {e} at line {linenumber}\")\n",
    "                with open(errors_file, 'at') as errfile:\n",
    "                    print((line, str(e)), file=errfile)\n",
    "                continue\n",
    "            linenumber += 1\n",
    "            if linenumber == 200_000:\n",
    "                break"
   ],
   "id": "initial_id",
   "outputs": [],
   "execution_count": 9
  },
  {
   "metadata": {
    "ExecuteTime": {
     "end_time": "2024-08-08T16:23:39.866158Z",
     "start_time": "2024-08-08T16:16:05.917883Z"
    }
   },
   "cell_type": "code",
   "source": "log(\"/home/suchitg/Desktop/access.log\", \"errors.txt\")",
   "id": "57a1af06979a4dfc",
   "outputs": [
    {
     "name": "stderr",
     "output_type": "stream",
     "text": [
      "  7%|▋         | 14745/200000 [00:15<03:11, 964.93it/s] "
     ]
    },
    {
     "name": "stdout",
     "output_type": "stream",
     "text": [
      "Exception: list index out of range at line 14593\n"
     ]
    },
    {
     "name": "stderr",
     "output_type": "stream",
     "text": [
      " 16%|█▋        | 32726/200000 [00:33<02:53, 966.34it/s] "
     ]
    },
    {
     "name": "stdout",
     "output_type": "stream",
     "text": [
      "Exception: list index out of range at line 32543\n"
     ]
    },
    {
     "name": "stderr",
     "output_type": "stream",
     "text": [
      " 21%|██        | 41365/200000 [00:41<02:21, 1119.41it/s]"
     ]
    },
    {
     "name": "stdout",
     "output_type": "stream",
     "text": [
      "Exception: list index out of range at line 41176\n"
     ]
    },
    {
     "name": "stderr",
     "output_type": "stream",
     "text": [
      " 68%|██████▊   | 136458/200000 [04:30<02:49, 375.08it/s]"
     ]
    },
    {
     "name": "stdout",
     "output_type": "stream",
     "text": [
      "Exception: list index out of range at line 136408\n"
     ]
    },
    {
     "name": "stderr",
     "output_type": "stream",
     "text": [
      " 78%|███████▊  | 156425/200000 [05:28<02:15, 321.07it/s]"
     ]
    },
    {
     "name": "stdout",
     "output_type": "stream",
     "text": [
      "Exception: list index out of range at line 156364\n"
     ]
    },
    {
     "name": "stderr",
     "output_type": "stream",
     "text": [
      "200003it [07:33, 440.59it/s]                            \n"
     ]
    }
   ],
   "execution_count": 10
  },
  {
   "metadata": {},
   "cell_type": "code",
   "outputs": [],
   "execution_count": null,
   "source": "",
   "id": "9e5731173895de66"
  },
  {
   "metadata": {},
   "cell_type": "code",
   "outputs": [],
   "execution_count": null,
   "source": "",
   "id": "9b987df832258a63"
  }
 ],
 "metadata": {
  "kernelspec": {
   "display_name": "Python 3",
   "language": "python",
   "name": "python3"
  },
  "language_info": {
   "codemirror_mode": {
    "name": "ipython",
    "version": 2
   },
   "file_extension": ".py",
   "mimetype": "text/x-python",
   "name": "python",
   "nbconvert_exporter": "python",
   "pygments_lexer": "ipython2",
   "version": "2.7.6"
  }
 },
 "nbformat": 4,
 "nbformat_minor": 5
}
